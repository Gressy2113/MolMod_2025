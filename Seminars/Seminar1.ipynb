{
 "cells": [
  {
   "cell_type": "markdown",
   "id": "b93a1bf4",
   "metadata": {},
   "source": [
    "# Семинар 1 (11.09.2025)\n",
    "* PyMol. Основы представления молекул. Синтаксис. Первый взгляд на Uniprot/RCSB и PDB.\n",
    "* `11.09.2025`"
   ]
  },
  {
   "cell_type": "markdown",
   "id": "84f6d480",
   "metadata": {
    "vscode": {
     "languageId": "plaintext"
    }
   },
   "source": [
    "# 1. Работа с RCSB и Uniprot"
   ]
  },
  {
   "cell_type": "markdown",
   "id": "e1b1793f",
   "metadata": {},
   "source": [
    "- **RCSB:** использование уникального кода белка для поиска информации на главной странице. Демонстрация страниц с 3D-структурой и последовательностью.\n",
    "- **Uniprot:** переход на Uniprot для получения более полной информации о белке, включая разделы Function и Structure.\n"
   ]
  },
  {
   "cell_type": "markdown",
   "id": "eed033ab",
   "metadata": {},
   "source": [
    "https://www.rcsb.org/ "
   ]
  },
  {
   "cell_type": "code",
   "execution_count": null,
   "id": "0ffb5178",
   "metadata": {},
   "outputs": [],
   "source": []
  },
  {
   "cell_type": "markdown",
   "id": "333dc1ee",
   "metadata": {
    "vscode": {
     "languageId": "plaintext"
    }
   },
   "source": [
    "# 2. Работа с Pymol"
   ]
  },
  {
   "cell_type": "markdown",
   "id": "350c41fa",
   "metadata": {},
   "source": [
    "## Установка \n",
    "\n",
    "https://pymol.org/edu/ - "
   ]
  },
  {
   "cell_type": "markdown",
   "id": "b4420def",
   "metadata": {},
   "source": [
    "https://wiki.pymol.org/index.php/Main_Page"
   ]
  },
  {
   "cell_type": "code",
   "execution_count": 1,
   "id": "6fb28853",
   "metadata": {},
   "outputs": [],
   "source": [
    "import pymol\n",
    "from pymol import cmd"
   ]
  },
  {
   "cell_type": "code",
   "execution_count": 2,
   "id": "2e292945",
   "metadata": {},
   "outputs": [
    {
     "name": "stdout",
     "output_type": "stream",
     "text": [
      "PyMOL>bg_color white\n",
      "PyMOL>remove solvent\n",
      " Remove: eliminated 117 atoms in model \"1lmp\".\n",
      "PyMOL>extract ligands,het\n",
      "PyMOL>as surface, 1lmp\n",
      "PyMOL>set transparency,0.5\n",
      " Setting: transparency set to 0.50000.\n",
      "PyMOL>as sticks, ligands\n",
      "PyMOL>show stick, byres(1lmp w. 4 of ligands)\n",
      "PyMOL>center ligands\n",
      "PyMOL>origin ligands\n",
      "PyMOL>zoom ligands\n",
      "PyMOL>dist hbo,1lmp,ligands,3.2,mode=2\n",
      " Executive: object \"hbo\" created.\n",
      "PyMOL>ray\n",
      " Ray: render time: 2.72 sec. = 1321.4 frames/hour (2.72 sec. accum.).\n",
      "PyMOL>png pic1.png\n",
      " ScenePNG: wrote 640x480 pixel image to file \"pic1.png\".\n"
     ]
    }
   ],
   "source": [
    "cmd.delete('all')\n",
    "cmd.fetch('1lmp')\n",
    "cmd.do('''\n",
    "bg_color white\n",
    "remove solvent\n",
    "extract ligands,het\n",
    "as surface, 1lmp\n",
    "set transparency,0.5\n",
    "as sticks, ligands\n",
    "show stick, byres(1lmp w. 4 of ligands)\n",
    "center ligands\n",
    "origin ligands\n",
    "zoom ligands\n",
    "dist hbo,1lmp,ligands,3.2,mode=2\n",
    "ray\n",
    "png pic1.png\n",
    "''')"
   ]
  },
  {
   "cell_type": "markdown",
   "id": "840144a7",
   "metadata": {},
   "source": [
    "- **Основы управления:**\n",
    "  - Описание работы с помощью мыши.\n",
    "  - Описание работы через интерфес и через командную строку.\n",
    "  - Описание \"скриптов Pymol\" в .txt файлах.\n",
    "  - Использование команды `reinitialize` для сброса проекта.\n",
    "  - Команда `fetch 1lgl, async = 0, bekm` — особенности использования параметра `async` для предотвращения пропуска команды.\n",
    "\n",
    "\n",
    "- **Загрузка файлов:**\n",
    "  - Пример команды `load 1w2i.pdb, ap`. Указание на необходимость корректных путей к файлам и проблему с русскими буквами.\n",
    "  - Работа с комментариями.\n",
    "  - Команда для отображения структуры: `show sticks, bekm` и альтернативная команда: `as sticks, bekm`.\n",
    "\n",
    "\n",
    "- **Работа с выборками (sele):**\n",
    "  - Отправить в общий чат пару скриншотов с командами sele-алгебры Pymol.\n",
    "  - Пример выбора аминокислот: `sele resn LYS and resi 18`, `sele lys18, resn LYS and resi 18`.\n",
    "  - Пример сложных выборок: `sele resi 14 or resi 20 and resn ARG`.\n",
    "\n",
    "\n",
    "- **Улучшение визуализации:**\n",
    "  - Команда для отображения белка в виде спиралей и листов: `as cartoon, bekm`.\n",
    "  - Пример более аккуратного отображения цепочки: `show sticks, (resi 18) and (not name C+N+O)`, скрытие водородов: `hide (hydro)`.\n",
    "\n",
    "\n",
    "- **Цвета:**\n",
    "  - Использование цветов для разных элементов структуры: `color yellow, ss h`, `color purple, ss s`, `color hotpink, lys18`.\n",
    "  - Команда для окрашивания элементов: `util.cnc(\"all\")`.\n",
    "\n",
    "\n",
    "- **Удаление элементов:**\n",
    "  - Удаление остатков: `remove resi 22-27`.\n",
    "\n",
    "\n",
    "- **Измерение расстояний:**\n",
    "  - Пример измерения расстояния между атомами: `dist tyr_lys_dist, resi 18 and name NZ, resi 11 and name OH`.\n",
    "\n",
    "\n",
    "- **Выравнивание:**\n",
    "  - Загрузка мутационной версии белка: `load bekm_mut.pdb`.\n",
    "  - Выравнивание структур: `align bekm_mut, bekm`.\n",
    "\n",
    "\n",
    "- **Управление сценами:**\n",
    "  - Сохранение вида: `get_view`, установка сцены: `set_view (...)`.\n",
    "  - Сохранение сцены: `scene tyr11, store`.\n",
    "\n",
    "\n",
    "- **Мутагенез и рендеринг:**\n",
    "  - Сохранение изображений: `save test.png`, улучшенное изображение: `ray 1000,1000`, сохранение: `save test_2.png`.\n",
    "\n",
    "\n",
    "- **Сохранение сессий и скриптов:**\n",
    "  - Сохранение сессии: `save prac1.pse`.\n",
    "  - Запуск скриптов.\n"
   ]
  },
  {
   "cell_type": "markdown",
   "id": "7f64079e",
   "metadata": {},
   "source": [
    "# 3. Домашнее задание и штрафы\n",
    "**Задание 1:** Найти статью, описывающую белок, который вас интересует (предпочтительно тот, который вы планируете использовать в финальном проекте). Ваша задача — выбрать любую картинку из статьи и воссоздать её в Pymol. \n",
    "- Нужно прислать:\n",
    "  - PDF статьи.\n",
    "  - Номер картинки.\n",
    "  - Файлы `.png` и `.pse` с вашей репликой картинки в Pymol.\n",
    "- **Дедлайн:** 25 сентября до начала занятия.\n",
    "- **Оценка:** 1 балл. За каждую неделю просрочки снимается 0.25 балла."
   ]
  },
  {
   "cell_type": "markdown",
   "id": "7aab56f8",
   "metadata": {},
   "source": []
  }
 ],
 "metadata": {
  "kernelspec": {
   "display_name": "pymolenv",
   "language": "python",
   "name": "python3"
  },
  "language_info": {
   "codemirror_mode": {
    "name": "ipython",
    "version": 3
   },
   "file_extension": ".py",
   "mimetype": "text/x-python",
   "name": "python",
   "nbconvert_exporter": "python",
   "pygments_lexer": "ipython3",
   "version": "3.12.8"
  }
 },
 "nbformat": 4,
 "nbformat_minor": 5
}
