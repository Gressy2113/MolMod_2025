{
 "cells": [
  {
   "cell_type": "markdown",
   "id": "b93a1bf4",
   "metadata": {},
   "source": [
    "# Семинар 1 (11.09.2025)\n",
    "# `PyMol. Основы представления молекул. Синтаксис. Первый взгляд на Uniprot/RCSB и PDB`"
   ]
  },
  {
   "cell_type": "markdown",
   "id": "84f6d480",
   "metadata": {
    "vscode": {
     "languageId": "plaintext"
    }
   },
   "source": [
    "# 1. Базы данных белковых структур"
   ]
  },
  {
   "cell_type": "markdown",
   "id": "5133191c",
   "metadata": {},
   "source": [
    "## 1.1. RCSB PDB"
   ]
  },
  {
   "cell_type": "markdown",
   "id": "e1b1793f",
   "metadata": {},
   "source": [
    "### Краткая информация\n",
    "https://www.rcsb.org/ \n",
    "\n",
    "**RCSB PDB (RCSB.org, Research Collaboratory for Structural Bioinformatics)** — американский центр обработки данных глобального архива **Protein Data Bank (PDB)** с данными о трехмерной структуре крупных биологических молекул (белков, ДНК и РНК), которые необходимы для исследований и образования в области фундаментальной биологии, здравоохранения, энергетики и биотехнологий."
   ]
  },
  {
   "cell_type": "markdown",
   "id": "5deb2488",
   "metadata": {},
   "source": [
    "<img src=\"Images/rcsb-pdb.png\" alt=\"drawing\" style=\"width:500px;\"/> \n",
    "\n",
    "*The Vision of the RCSB PDB is to expand the frontiers of fundamental biology, biomedicine, energy sciences, and biotechnology through open and sustainable access to 3D biostructure information stored in the Protein Data Bank (PDB) archive and generated using artificial intelligence/machine complemented with functional and evolutionary insights from trusted external resources.*"
   ]
  },
  {
   "cell_type": "markdown",
   "id": "c87d69d0",
   "metadata": {},
   "source": [
    "Количество структур в PDB растет с каждым годом, в настоящее время их уже больше 240к. \n",
    "\n",
    "<img src=\"Images/pdb_statistics.png\" alt=\"drawing\" style=\"width:500px;\"/> \n",
    "\n",
    "*PDB Statistics: Overall Growth of Released Structures Per Year  https://www.rcsb.org/stats/growth/growth-released-structures*"
   ]
  },
  {
   "cell_type": "markdown",
   "id": "007500e5",
   "metadata": {},
   "source": [
    "PDB содержит структуры: \n",
    "* В основном - полученные экспериментально методами рентгеновской кристаллографии (X-ray), ЯМР и криоэлектронной микроскопии (Cryo-EM)\n",
    "* Computed Structure Models (CSM) из [AlphaFold DB](https://alphafold.ebi.ac.uk/) и [ModelArchive](https://modelarchive.org/)\n",
    "* Integrative 3D Structures - полученные комбинацией экспериментальных и вычислительных методов"
   ]
  },
  {
   "cell_type": "markdown",
   "id": "45c9a8b0",
   "metadata": {},
   "source": [
    "### Как устроен PDB"
   ]
  },
  {
   "cell_type": "markdown",
   "id": "37725e4d",
   "metadata": {},
   "source": [
    "* У каждой структуры есть идентификатор (PDB ID) - четыре символа: цифры и заглавные буквы. Например, белок 8U4D\n",
    "\n",
    "* Примечание: 4-значные коды заканчиваются, поэтому появился 8-значный код (extended PDB ID code - 00008u4d)\n",
    "\n",
    "* Пример: https://www.rcsb.org/structure/8U4D"
   ]
  },
  {
   "cell_type": "markdown",
   "id": "ddd725c9",
   "metadata": {},
   "source": [
    "### Формат файлов PDB\n",
    "\n",
    "Файл структуры содержит координаты центров атомов (в некоторой произвольной системе координат) и сопровождающую информацию\n",
    "\n",
    "<img src=\"Images/Pdb-file-format.png\" alt=\"drawing\" style=\"width:500px;\"/> "
   ]
  },
  {
   "cell_type": "code",
   "execution_count": 1,
   "id": "3654acff",
   "metadata": {
    "vscode": {
     "languageId": "powershell"
    }
   },
   "outputs": [
    {
     "name": "stdout",
     "output_type": "stream",
     "text": [
      "ATOM   3183  HB2 LEU A 381     111.990 165.350 110.524  1.00 71.21           H  \n",
      "ATOM   3184  HB3 LEU A 381     111.130 165.585 111.831  1.00 71.21           H  \n",
      "ATOM   3185  HG  LEU A 381     113.389 167.079 111.067  1.00 71.21           H  \n",
      "ATOM   3186 HD11 LEU A 381     111.906 168.877 110.948  1.00 71.21           H  \n",
      "ATOM   3187 HD12 LEU A 381     110.709 167.903 111.323  1.00 71.21           H  \n",
      "ATOM   3188 HD13 LEU A 381     111.476 167.723 109.944  1.00 71.21           H  \n",
      "ATOM   3189 HD21 LEU A 381     112.912 168.409 113.014  1.00 71.21           H  \n",
      "ATOM   3190 HD22 LEU A 381     113.605 167.011 113.306  1.00 71.21           H  \n"
     ]
    }
   ],
   "source": [
    "! awk 'NR >= 4193 && NR <= 4200' Data/8U4D.pdb"
   ]
  },
  {
   "cell_type": "markdown",
   "id": "7f5a1eab",
   "metadata": {},
   "source": [
    "## 1.2. Uniprot "
   ]
  },
  {
   "cell_type": "markdown",
   "id": "ccc8f966",
   "metadata": {},
   "source": [
    "https://www.uniprot.org/\n",
    "\n",
    "\n",
    "**Universal Protein Resource (UniProt)** – это комплексный ресурс данных о последовательностях белков и их аннотациях. Он создан в коллаборации EMBL-EBI (European Bioinformatics Institute), SIB (Swiss Institute of Bioinformatics) и PIR (Protein Information Resource)\n",
    "\n",
    "<img src=\"Images/uniprot.png\" alt=\"drawing\" style=\"width:500px;\"/> \n"
   ]
  },
  {
   "cell_type": "markdown",
   "id": "d8deed7d",
   "metadata": {},
   "source": [
    "### UniProt Knowledgebase (UniProtKB)\n",
    "\n",
    "* UniProtKB содержит два раздела: \n",
    "    * **Swiss-Prot** - карточки белков, проаннотированные вручную экспертами\n",
    "    * **TrEMBL** -карточки белков, сформированные автоматическими средствами\n",
    "\n",
    "* В UniProtKB есть информация о белках различных организмов:\n",
    "\n",
    "    <img src=\"Images/uniprot_stat.png\" alt=\"drawing\" style=\"width:500px;\"/> \n",
    "\n",
    "    *https://www.uniprot.org/uniprotkb?groupBy=taxonomy&query=* *\n",
    "\n",
    "\n",
    "\n",
    "* Карточка белка включает в себя информацию по: \n",
    "    * Последовательности\n",
    "    * Функциям\n",
    "    * Локализации в клетке\n",
    "    * Пост-трансляционным модификациям\n",
    "    * Экспрессии\n",
    "    * Взаимодействиям белка и т.д\n",
    "\n",
    "\n",
    "\n",
    "* Идентификаторы белка могут быть двух типов:\n",
    "    * шесть знаков: цифры и заглавные буквы\n",
    "    * короткое название белка_организм\n",
    "\n",
    "    Пример: белок TRPV1 человека - Q8NER1 и TRPV1_HUMAN, мыши - Q704Y3 и TRPV1_MOUSE."
   ]
  },
  {
   "cell_type": "markdown",
   "id": "333dc1ee",
   "metadata": {
    "vscode": {
     "languageId": "plaintext"
    }
   },
   "source": [
    "# 2. Работа с PyMOL"
   ]
  },
  {
   "cell_type": "markdown",
   "id": "180a6c78",
   "metadata": {},
   "source": [
    "**Программы для визуализации 3D структур белков: **\n",
    "\n",
    "\n",
    "* PyMOL - https://www.pymol.org/ - одна из немногих систем молекулярной визуализации с открытым исходным кодом, пригодная для использования в структурной биологии. Примерно четверть всех публикуемых в научной литературе изображений структур белков сделана с помощью PyMOL.\n",
    "\n",
    "* UCSF Chimera / ChimeraX - https://www.cgl.ucsf.edu/chimera/ - используется для интерактивной визуализации и анализа молекулярных структур и связанных с ними данных, включая экспериментальные cryo-EM/X-ray плотности, выравнивания последовательностей и траектории молекулярной динамики.\n",
    "\n",
    "* VMD (Visual Molecular Dynamics)- https://www.ks.uiuc.edu/Research/vmd/ - разработан в основном как инструмент для просмотра и анализа результатов моделирования молекулярной динамики\n",
    "\n",
    "* web-viewers: Mol* (https://molstar.org/viewer/) / NGL Viewer (https://nglviewer.org/ngl/) и т.д."
   ]
  },
  {
   "cell_type": "markdown",
   "id": "350c41fa",
   "metadata": {},
   "source": [
    "## 2.1. Установка PyMOL\n",
    "\n",
    "* https://www.pymol.org/#download\n",
    "* https://pymol.org/edu/ - образовательная лицензия"
   ]
  },
  {
   "cell_type": "markdown",
   "id": "0a4104fa",
   "metadata": {},
   "source": [
    "## 2.2. Полезные материалы"
   ]
  },
  {
   "cell_type": "markdown",
   "id": "b4420def",
   "metadata": {},
   "source": [
    "* Документация Pymol wiki: \n",
    "    * http://pymolwiki.org/ - официальная, работает только через VPN\n",
    "    * https://wiki.pymol.org/index.php/Main_Page - зеркало\n",
    "\n",
    "* Файлы в папке Materials на github курса"
   ]
  },
  {
   "cell_type": "markdown",
   "id": "ee0c434f",
   "metadata": {},
   "source": [
    "## 2.3. Краткий список команд"
   ]
  },
  {
   "cell_type": "markdown",
   "id": "c69584c7",
   "metadata": {},
   "source": [
    "- **Основы управления:**\n",
    "  - Описание работы с помощью мыши.\n",
    "  - Описание работы через интерфес и через командную строку.\n",
    "  - Использование команды `reinitialize` для сброса проекта.\n",
    "  - Сохранение сессии: `save prac1.pse`.\n",
    "\n",
    "\n",
    "- **Загрузка файлов:**\n",
    "  - Команда `fetch 8U4D, rTRPV1`\n",
    "  - Пример команды `load 8U4D.pdb, rTRPV1`. Указание на необходимость корректных путей к файлам и проблему с русскими буквами\n",
    "\n",
    "\n",
    "- **Работа с выборками (sele):**\n",
    "  - https://wiki.pymol.org/index.php/Selection_Algebra\n",
    "  - `sele res_vbp, model rTRPV1 and resi 511+512+557+570+700 and chain A`\n",
    "  - `select het, not polymer.protein`\n",
    "  - `select pi, resn VPN`\n",
    "\n",
    "\n",
    "- **Улучшение визуализации:**\n",
    "  - Команда для отображения структуры: `show sticks, rTRPV1`\n",
    "  - Команда для отображения белка в виде спиралей и листов: `as cartoon, rTRPV1`.\n",
    "  - Пример более аккуратного отображения цепочки: `show sticks, res_vbp or pi`\n",
    "  - Скрытие лишнего: `hide (hydro)`, `hide sticks, res_vbp`.\n",
    "\n",
    "\n",
    "- **Цвета:**\n",
    "  - https://wiki.pymol.org/index.php/Advanced_Coloring\n",
    "  - Использование цветов для разных элементов структуры: `color yellow, ss h`, `color purple, ss s`, `color hotpink, pi`.\n",
    "  - Команда для окрашивания элементов: `util.cnc(\"all\")`, `util.cbac res_vbp`\n",
    "\n",
    "\n",
    "- **Удаление элементов:**\n",
    "  - Удаление остатков: `remove resi 177-201`.\n",
    "\n",
    "\n",
    "- **Измерение расстояний:**\n",
    "  - Пример измерения расстояния между атомами: `dist dist_pi_511, chain A and pi and name P27, chain A and resi 511 and name CA`.\n",
    "\n",
    "\n",
    "- **Выравнивание:**\n",
    "  - Загрузка другого белка: `fetch 8GFA, hTRPV1`.\n",
    "  - Выравнивание структур: `align hTRPV1 and polymer.protein and chain A, rTRPV1 and polymer.protein and chain A`.\n",
    "\n",
    "\n",
    "- **Управление сценами:**\n",
    "  - Сохранение вида: `get_view`, установка сцены: `set_view (...)`.\n",
    "  - Сохранение сцены: `scene vbp, store`.\n",
    "\n",
    "\n",
    "- **Рендеринг:**\n",
    "  - Сохранение изображений: `save test.png`, улучшенное изображение: `ray 1000,1000`, сохранение: `save test_2.png`.\n",
    "\n",
    "\n",
    "- **Запуск скриптов:**\n",
    "  - Описание \"скриптов Pymol\" в .pml файлах\n",
    "  - Запуск через терминал\n",
    "      ```\n",
    "      conda activate pymolenv\n",
    "      pymol script.pml\n",
    "      ```\n",
    "  - Python API `cmd.do('...')`"
   ]
  },
  {
   "cell_type": "markdown",
   "id": "6098b4d8",
   "metadata": {},
   "source": [
    "# 3. Домашнее задание\n",
    "**Задание 1:** Найти статью, описывающую белок, который вас интересует (предпочтительно тот, который вы планируете использовать в финальном проекте). Ваша задача — выбрать любую картинку из статьи и воссоздать её в Pymol. \n",
    "- Нужно прислать:\n",
    "  - PDF статьи.\n",
    "  - Номер картинки.\n",
    "  - Файлы `.png` и `.pse` с вашей репликой картинки в Pymol.\n",
    "- **Дедлайн:** 25 сентября до начала занятия.\n",
    "- **Оценка:** 1 балл. За каждую неделю просрочки снимается 0.25 балла."
   ]
  },
  {
   "cell_type": "markdown",
   "id": "06273f68",
   "metadata": {},
   "source": [
    "Пример: повторить картинку из статьи https://doi.org/10.1038/s41467-023-38162-9\n",
    "\n",
    "<img src=\"Images/HW.png\" alt=\"drawing\" style=\"width:500px;\"/> \n"
   ]
  },
  {
   "cell_type": "code",
   "execution_count": 2,
   "id": "6fb28853",
   "metadata": {},
   "outputs": [],
   "source": [
    "import pymol\n",
    "from pymol import cmd"
   ]
  },
  {
   "cell_type": "code",
   "execution_count": 3,
   "id": "2e292945",
   "metadata": {},
   "outputs": [
    {
     "name": "stdout",
     "output_type": "stream",
     "text": [
      "PyMOL>#bg_color white\n",
      "PyMOL>remove solvent\n",
      " Remove: eliminated 105 atoms in model \"8GFA\".\n",
      "PyMOL>sele ligand, resn ZEI and chain A\n",
      " Selector: selection \"ligand\" defined with 34 atoms.\n",
      "PyMOL>hide everything, not polymer.protein and not ligand \n",
      "PyMOL>color palecyan, polymer.protein\n",
      " Executive: Colored 34628 atoms.\n",
      "PyMOL>color palegreen, resi 580-680\n",
      " Executive: Colored 5052 atoms.\n",
      "PyMOL>color yellow, ligand\n",
      " Executive: Colored 34 atoms.\n",
      "PyMOL>util.cnc\n",
      " Executive: Colored 26682 atoms.\n",
      "PyMOL>set cartoon_oval_length, 1\n",
      " Setting: cartoon_oval_length set to 1.00000.\n",
      "PyMOL>show sticks, chain A and resi 511+515+553+547+550\n",
      "PyMOL>hide sticks, polymer.protein and name C+N+O\n",
      "PyMOL>hide (hydro)\n",
      "PyMOL># center ligand\n",
      "PyMOL># origin ligand\n",
      "PyMOL># zoom ligand\n",
      "PyMOL>set_view (    -0.474163622,    0.297243327,   -0.828743219,     0.870024383,    0.013848366,   -0.492815197,    -0.135010451,   -0.954700947,   -0.265173376,    -0.000098400,    0.000362176,  -71.312774658,   104.876785278,   80.495117188,   91.319892883,    52.504722595,   90.134521484,  -20.000000000 )\n",
      " Scene: view updated.\n",
      "PyMOL>set ray_trace_mode, 1\n",
      " Setting: ray_trace_mode set to 1.\n",
      "PyMOL>set ray_shadow, off\n",
      " Setting: ray_shadow set to off.\n",
      "PyMOL>set ray_trace_color, black\n",
      " Setting: ray_trace_color set to black.\n",
      "PyMOL>ray 1000, 1000\n",
      " Ray: render time: 12.35 sec. = 291.6 frames/hour (12.35 sec. accum.).\n",
      "PyMOL>save Data/HW1.png\n",
      " ScenePNG: wrote 1000x1000 pixel image to file \"Data/HW1.png\".\n",
      " Save: Please wait -- writing session file...\n",
      "PyMOL>save Data/HW1.pse\n",
      " Save: wrote \"Data/HW1.pse\".\n"
     ]
    }
   ],
   "source": [
    "cmd.reinitialize()\n",
    "cmd.fetch('8GFA', path = 'Data/', type='pdb')\n",
    "cmd.do(f'''\n",
    "#bg_color white\n",
    "remove solvent\n",
    "sele ligand, resn ZEI and chain A\n",
    "hide everything, not polymer.protein and not ligand \n",
    "\n",
    "color palecyan, polymer.protein\n",
    "color palegreen, resi 580-680\n",
    "color yellow, ligand\n",
    "util.cnc\n",
    "\n",
    "set cartoon_oval_length, 1\n",
    "show sticks, chain A and resi 511+515+553+547+550\n",
    "hide sticks, polymer.protein and name C+N+O\n",
    "hide (hydro)\n",
    "\n",
    "\n",
    "# center ligand\n",
    "# origin ligand\n",
    "# zoom ligand\n",
    "\n",
    "set_view (\\\n",
    "    -0.474163622,    0.297243327,   -0.828743219,\\\n",
    "     0.870024383,    0.013848366,   -0.492815197,\\\n",
    "    -0.135010451,   -0.954700947,   -0.265173376,\\\n",
    "    -0.000098400,    0.000362176,  -71.312774658,\\\n",
    "   104.876785278,   80.495117188,   91.319892883,\\\n",
    "    52.504722595,   90.134521484,  -20.000000000 )\n",
    "\n",
    "\n",
    "set ray_trace_mode, 1\n",
    "set ray_shadow, off\n",
    "set ray_trace_color, black\n",
    "ray 1000, 1000\n",
    "save Data/HW1.png\n",
    "save Data/HW1.pse\n",
    "''')"
   ]
  }
 ],
 "metadata": {
  "kernelspec": {
   "display_name": "pymolenv",
   "language": "python",
   "name": "python3"
  },
  "language_info": {
   "codemirror_mode": {
    "name": "ipython",
    "version": 3
   },
   "file_extension": ".py",
   "mimetype": "text/x-python",
   "name": "python",
   "nbconvert_exporter": "python",
   "pygments_lexer": "ipython3",
   "version": "3.12.8"
  }
 },
 "nbformat": 4,
 "nbformat_minor": 5
}
